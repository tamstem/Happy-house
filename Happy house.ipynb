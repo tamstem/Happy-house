{
 "cells": [
  {
   "cell_type": "code",
   "execution_count": 1,
   "metadata": {},
   "outputs": [],
   "source": [
    "#Happy House Dataset\n",
    "#Detect whether a person is smiling or not!\n",
    "#Using CNN"
   ]
  },
  {
   "cell_type": "code",
   "execution_count": 2,
   "metadata": {},
   "outputs": [
    {
     "name": "stderr",
     "output_type": "stream",
     "text": [
      "Using TensorFlow backend.\n"
     ]
    }
   ],
   "source": [
    "import numpy as np\n",
    "import h5py\n",
    "\n",
    "import math\n",
    "import numpy as np\n",
    "import h5py\n",
    "import matplotlib.pyplot as plt\n",
    "import scipy\n",
    "\n",
    "import os\n",
    "os.environ['KMP_DUPLICATE_LIB_OK']='True'\n",
    "\n",
    "import keras \n",
    "from keras.models import Sequential\n",
    "from keras.layers import Conv2D\n",
    "from keras.layers import MaxPooling2D\n",
    "from keras.layers import Flatten\n",
    "from keras.layers import Dense\n",
    "from keras.layers import Activation, Dropout\n",
    "from keras.optimizers import Adam\n",
    "from keras.layers.normalization import BatchNormalization\n",
    "\n",
    "from sklearn.model_selection import train_test_split\n",
    "from sklearn.metrics import accuracy_score, confusion_matrix, recall_score, precision_score, f1_score\n",
    "\n",
    "import seaborn as sns"
   ]
  },
  {
   "cell_type": "code",
   "execution_count": 3,
   "metadata": {},
   "outputs": [],
   "source": [
    "#function to load data\n",
    "def load_dataset():\n",
    "    train_data = h5py.File('train_happy.h5', \"r\")\n",
    "    x_train = np.array(train_data[\"train_set_x\"][:]) \n",
    "    y_train = np.array(train_data[\"train_set_y\"][:]) \n",
    "\n",
    "    test_data = h5py.File('test_happy.h5', \"r\")\n",
    "    x_test = np.array(test_data[\"test_set_x\"][:])\n",
    "    y_test = np.array(test_data[\"test_set_y\"][:]) \n",
    "    \n",
    "    y_train = y_train.reshape((1, y_train.shape[0]))\n",
    "    y_test = y_test.reshape((1, y_test.shape[0]))\n",
    "    \n",
    "    return x_train, y_train, x_test, y_test"
   ]
  },
  {
   "cell_type": "code",
   "execution_count": 4,
   "metadata": {},
   "outputs": [],
   "source": [
    "# Load the data\n",
    "X_train, Y_train, X_test, Y_test = load_dataset()"
   ]
  },
  {
   "cell_type": "code",
   "execution_count": 5,
   "metadata": {},
   "outputs": [
    {
     "name": "stdout",
     "output_type": "stream",
     "text": [
      "y = 1\n"
     ]
    },
    {
     "data": {
      "image/png": "[encoded data removed]",
      "text/plain": [
       "<matplotlib.figure.Figure at 0x1a3e0d2810>"
      ]
     },
     "metadata": {
      "needs_background": "light"
     },
     "output_type": "display_data"
    }
   ],
   "source": [
    "# Example of an image\n",
    "index = 1\n",
    "plt.imshow(X_train[index])\n",
    "print (\"y = \" + str(np.squeeze(Y_train[:, index])))"
   ]
  },
  {
   "cell_type": "code",
   "execution_count": 6,
   "metadata": {
    "scrolled": false
   },
   "outputs": [
    {
     "name": "stdout",
     "output_type": "stream",
     "text": [
      "(600, 64, 64, 3)\n",
      "(150, 64, 64, 3)\n",
      "(1, 600)\n",
      "(1, 150)\n"
     ]
    }
   ],
   "source": [
    "#check shape of our data\n",
    "print X_train.shape\n",
    "print X_test.shape\n",
    "print Y_train.shape\n",
    "print Y_test.shape"
   ]
  },
  {
   "cell_type": "code",
   "execution_count": 7,
   "metadata": {
    "scrolled": true
   },
   "outputs": [
    {
     "name": "stdout",
     "output_type": "stream",
     "text": [
      "number of training examples = 600\n",
      "number of test examples = 150\n",
      "X_train shape: (600, 64, 64, 3)\n",
      "Y_train shape: (600, 1)\n",
      "X_test shape: (150, 64, 64, 3)\n",
      "Y_test shape: (150, 1)\n"
     ]
    }
   ],
   "source": [
    "#Rescale data\n",
    "X_train = X_train/255.\n",
    "X_test = X_test/255.\n",
    "Y_train = Y_train.T\n",
    "Y_test = Y_test.T\n",
    "print (\"number of training examples = \" + str(X_train.shape[0]))\n",
    "print (\"number of test examples = \" + str(X_test.shape[0]))\n",
    "print (\"X_train shape: \" + str(X_train.shape))\n",
    "print (\"Y_train shape: \" + str(Y_train.shape))\n",
    "print (\"X_test shape: \" + str(X_test.shape))\n",
    "print (\"Y_test shape: \" + str(Y_test.shape))"
   ]
  },
  {
   "cell_type": "code",
   "execution_count": 8,
   "metadata": {},
   "outputs": [],
   "source": [
    "#our CNN model\n",
    "\n",
    "model = Sequential()\n",
    "\n",
    "#Conv layer 1 \n",
    "#input 64x64x3\n",
    "model.add(Conv2D(64,(5,5), padding = 'Same', activation = 'relu', input_shape = (64,64,3)))\n",
    "model.add(BatchNormalization())\n",
    "\n",
    "#Pooling layer 1\n",
    "model.add(MaxPooling2D(pool_size = (2,2)))\n",
    "model.add(Dropout(0.1))\n",
    "\n",
    "\n",
    "\n",
    "#Conv layer 2\n",
    "model.add(Conv2D(64, (5,5), padding = 'Same', activation = 'relu'))\n",
    "model.add(BatchNormalization())\n",
    "\n",
    "\n",
    "#Pooling layer 2\n",
    "model.add(MaxPooling2D(pool_size = (2,2)))\n",
    "model.add(Dropout(0.1))\n",
    "\n",
    "#Flatten\n",
    "model.add(Flatten())\n",
    "\n",
    "#Fully connected layer 1\n",
    "model.add(Dense(128, activation = 'relu'))\n",
    "\n",
    "#Output Layer\n",
    "model.add(Dense(units = 1,kernel_initializer=\"uniform\", activation = 'sigmoid'))\n",
    "\n",
    "\n",
    "# Compiling Neural Network\n",
    "model.compile(optimizer = 'adam', loss = 'binary_crossentropy', metrics = ['accuracy'])"
   ]
  },
  {
   "cell_type": "code",
   "execution_count": 9,
   "metadata": {},
   "outputs": [
    {
     "name": "stdout",
     "output_type": "stream",
     "text": [
      "Epoch 1/35\n",
      "600/600 [==============================] - 22s 36ms/step - loss: 0.7537 - acc: 0.6633\n",
      "Epoch 2/35\n",
      "600/600 [==============================] - 17s 28ms/step - loss: 0.3674 - acc: 0.8417\n",
      "Epoch 3/35\n",
      "600/600 [==============================] - 17s 29ms/step - loss: 0.2932 - acc: 0.8550\n",
      "Epoch 4/35\n",
      "600/600 [==============================] - 16s 27ms/step - loss: 0.2091 - acc: 0.9000\n",
      "Epoch 5/35\n",
      "600/600 [==============================] - 16s 26ms/step - loss: 0.1573 - acc: 0.9317\n",
      "Epoch 6/35\n",
      "600/600 [==============================] - 16s 26ms/step - loss: 0.1305 - acc: 0.9617\n",
      "Epoch 7/35\n",
      "600/600 [==============================] - 16s 26ms/step - loss: 0.1084 - acc: 0.9667\n",
      "Epoch 8/35\n",
      "600/600 [==============================] - 16s 26ms/step - loss: 0.0766 - acc: 0.9750\n",
      "Epoch 9/35\n",
      "600/600 [==============================] - 16s 26ms/step - loss: 0.0846 - acc: 0.9683\n",
      "Epoch 10/35\n",
      "600/600 [==============================] - 16s 27ms/step - loss: 0.0698 - acc: 0.9767\n",
      "Epoch 11/35\n",
      "600/600 [==============================] - 16s 27ms/step - loss: 0.0788 - acc: 0.9750\n",
      "Epoch 12/35\n",
      "600/600 [==============================] - 16s 27ms/step - loss: 0.1200 - acc: 0.9567\n",
      "Epoch 13/35\n",
      "600/600 [==============================] - 16s 26ms/step - loss: 0.0578 - acc: 0.9800\n",
      "Epoch 14/35\n",
      "600/600 [==============================] - 16s 27ms/step - loss: 0.0570 - acc: 0.9767\n",
      "Epoch 15/35\n",
      "600/600 [==============================] - 16s 26ms/step - loss: 0.0487 - acc: 0.9833\n",
      "Epoch 16/35\n",
      "600/600 [==============================] - 16s 26ms/step - loss: 0.0488 - acc: 0.9850\n",
      "Epoch 17/35\n",
      "600/600 [==============================] - 16s 27ms/step - loss: 0.0388 - acc: 0.9850\n",
      "Epoch 18/35\n",
      "600/600 [==============================] - 16s 27ms/step - loss: 0.0540 - acc: 0.9800\n",
      "Epoch 19/35\n",
      "600/600 [==============================] - 16s 27ms/step - loss: 0.0267 - acc: 0.9967\n",
      "Epoch 20/35\n",
      "600/600 [==============================] - 16s 26ms/step - loss: 0.0319 - acc: 0.9900\n",
      "Epoch 21/35\n",
      "600/600 [==============================] - 16s 27ms/step - loss: 0.0389 - acc: 0.9883\n",
      "Epoch 22/35\n",
      "600/600 [==============================] - 16s 26ms/step - loss: 0.0409 - acc: 0.9850\n",
      "Epoch 23/35\n",
      "600/600 [==============================] - 16s 27ms/step - loss: 0.0482 - acc: 0.9817\n",
      "Epoch 24/35\n",
      "600/600 [==============================] - 16s 27ms/step - loss: 0.0366 - acc: 0.9883\n",
      "Epoch 25/35\n",
      "600/600 [==============================] - 16s 26ms/step - loss: 0.0412 - acc: 0.9867\n",
      "Epoch 26/35\n",
      "600/600 [==============================] - 18s 29ms/step - loss: 0.0307 - acc: 0.9867\n",
      "Epoch 27/35\n",
      "600/600 [==============================] - 16s 27ms/step - loss: 0.0194 - acc: 0.9950\n",
      "Epoch 28/35\n",
      "600/600 [==============================] - 16s 27ms/step - loss: 0.0344 - acc: 0.9883\n",
      "Epoch 29/35\n",
      "600/600 [==============================] - 16s 27ms/step - loss: 0.0289 - acc: 0.9917\n",
      "Epoch 30/35\n",
      "600/600 [==============================] - 17s 29ms/step - loss: 0.0840 - acc: 0.9700\n",
      "Epoch 31/35\n",
      "600/600 [==============================] - 16s 26ms/step - loss: 0.0421 - acc: 0.9867\n",
      "Epoch 32/35\n",
      "600/600 [==============================] - 16s 26ms/step - loss: 0.0570 - acc: 0.9750\n",
      "Epoch 33/35\n",
      "600/600 [==============================] - 16s 27ms/step - loss: 0.0495 - acc: 0.9817\n",
      "Epoch 34/35\n",
      "600/600 [==============================] - 16s 26ms/step - loss: 0.0205 - acc: 0.9900\n",
      "Epoch 35/35\n",
      "600/600 [==============================] - 16s 26ms/step - loss: 0.0146 - acc: 0.9967\n"
     ]
    },
    {
     "data": {
      "text/plain": [
       "<keras.callbacks.History at 0x10ebe5ed0>"
      ]
     },
     "execution_count": 9,
     "metadata": {},
     "output_type": "execute_result"
    }
   ],
   "source": [
    "model.fit(X_train, Y_train, batch_size=20, epochs=35)\n"
   ]
  },
  {
   "cell_type": "code",
   "execution_count": 10,
   "metadata": {},
   "outputs": [],
   "source": [
    "# Predict the test set results\n",
    "Y_pred = model.predict_classes(X_test)"
   ]
  },
  {
   "cell_type": "code",
   "execution_count": 11,
   "metadata": {},
   "outputs": [
    {
     "name": "stdout",
     "output_type": "stream",
     "text": [
      "test accuracy: 0.9666666666666667\n",
      "precision: 0.9759036144578314\n",
      "recall: 0.9642857142857143\n",
      "f1 score: 0.970059880239521\n"
     ]
    },
    {
     "data": {
      "text/plain": [
       "<matplotlib.axes._subplots.AxesSubplot at 0x1a45c62dd0>"
      ]
     },
     "execution_count": 11,
     "metadata": {},
     "output_type": "execute_result"
    },
    {
     "data": {
      "image/png": "[encoded data removed]",
      "text/plain": [
       "<matplotlib.figure.Figure at 0x10ebe5f50>"
      ]
     },
     "metadata": {
      "needs_background": "light"
     },
     "output_type": "display_data"
    }
   ],
   "source": [
    "print 'test accuracy:', accuracy_score(Y_test, Y_pred)\n",
    "print 'precision:', precision_score(Y_test, Y_pred)\n",
    "print 'recall:',recall_score(Y_test, Y_pred)\n",
    "print 'f1 score:', f1_score(Y_test, Y_pred)\n",
    "\n",
    "\n",
    "cm = confusion_matrix(Y_test,Y_pred)\n",
    "sns.heatmap(cm,annot=True)"
   ]
  },
  {
   "cell_type": "code",
   "execution_count": null,
   "metadata": {},
   "outputs": [],
   "source": []
  }
 ],
 "metadata": {
  "kernelspec": {
   "display_name": "Python 2",
   "language": "python",
   "name": "python2"
  },
  "language_info": {
   "codemirror_mode": {
    "name": "ipython",
    "version": 2
   },
   "file_extension": ".py",
   "mimetype": "text/x-python",
   "name": "python",
   "nbconvert_exporter": "python",
   "pygments_lexer": "ipython2",
   "version": "2.7.15"
  }
 },
 "nbformat": 4,
 "nbformat_minor": 2
}
